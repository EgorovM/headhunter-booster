{
 "cells": [
  {
   "cell_type": "code",
   "execution_count": 4,
   "id": "bb63095d-faa9-4701-ae9f-2724415a9547",
   "metadata": {},
   "outputs": [],
   "source": [
    "import urllib.request\n",
    "import gensim\n",
    "from gensim.models import word2vec\n",
    "\n",
    "import nltk.data\n",
    "import re\n",
    "import numpy as np\n",
    "\n",
    "from bs4 import BeautifulSoup\n",
    "from nltk.corpus import stopwords\n",
    "from nltk.tokenize import sent_tokenize, RegexpTokenizer \n",
    "\n",
    "import pandas as pd\n",
    "from tqdm import tqdm \n",
    "\n",
    "import pymorphy2\n",
    "\n",
    "tqdm.pandas()"
   ]
  },
  {
   "cell_type": "code",
   "execution_count": 5,
   "id": "ddb5fab5-1360-4e94-94af-19afa6597fae",
   "metadata": {},
   "outputs": [],
   "source": [
    "df = pd.read_csv('data/hhparser_vacancy.csv')"
   ]
  },
  {
   "cell_type": "code",
   "execution_count": 6,
   "id": "1f52fcce-92cc-4288-abfc-a5cf34a9a1b3",
   "metadata": {},
   "outputs": [],
   "source": [
    "def remove_tags(text: str) -> str:\n",
    "    return re.sub('<[^>]*>', ' ', text)"
   ]
  },
  {
   "cell_type": "code",
   "execution_count": 7,
   "id": "175aeccf-3ba0-45a2-aefd-95e5377b3065",
   "metadata": {},
   "outputs": [],
   "source": [
    "df.description.fillna('none', inplace=True)"
   ]
  },
  {
   "cell_type": "code",
   "execution_count": 8,
   "id": "cc8a0964-0516-4705-926f-61a0dfd88530",
   "metadata": {},
   "outputs": [],
   "source": [
    "df.description = df.description.str.replace('ё', 'е')"
   ]
  },
  {
   "cell_type": "code",
   "execution_count": 10,
   "id": "2c4cd571-9ffe-4ee4-9b02-06caae244bcb",
   "metadata": {},
   "outputs": [
    {
     "name": "stderr",
     "output_type": "stream",
     "text": [
      "100%|██████████████████████████████████| 96225/96225 [00:02<00:00, 38331.95it/s]\n"
     ]
    }
   ],
   "source": [
    "descriptions = df.description.progress_apply(remove_tags)"
   ]
  },
  {
   "cell_type": "code",
   "execution_count": 11,
   "id": "96b10326-1170-473a-ae86-bf3611a91714",
   "metadata": {},
   "outputs": [],
   "source": [
    "import importlib\n",
    "import normalizer\n",
    "normalizer = importlib.reload(normalizer)\n",
    "from normalizer import normalize_sentences"
   ]
  },
  {
   "cell_type": "code",
   "execution_count": 12,
   "id": "3feaaf3f-2cd7-42e1-87b6-16c38588bf69",
   "metadata": {},
   "outputs": [
    {
     "name": "stderr",
     "output_type": "stream",
     "text": [
      "100%|███████████████████████████████████| 96225/96225 [01:29<00:00, 1072.22it/s]\n",
      "100%|█████████████████████████████████| 178440/178440 [00:40<00:00, 4406.38it/s]\n",
      "100%|██████████████████████████████████| 96225/96225 [00:05<00:00, 18699.78it/s]\n"
     ]
    }
   ],
   "source": [
    "normal_sents = normalize_sentences(descriptions)"
   ]
  },
  {
   "cell_type": "code",
   "execution_count": 15,
   "id": "9f2149b8-7db3-45c0-a831-de1bb3b4628f",
   "metadata": {},
   "outputs": [],
   "source": [
    "import joblib\n",
    "import multiprocessing"
   ]
  },
  {
   "cell_type": "code",
   "execution_count": 18,
   "id": "6317aeee-257d-4ee9-8c19-60e233374b4d",
   "metadata": {},
   "outputs": [],
   "source": [
    "cores = multiprocessing.cpu_count()\n",
    "\n",
    "model = word2vec.Word2Vec(min_count=20,\n",
    "                         window=3,\n",
    "                         vector_size=300,\n",
    "                         sample=6e-5, \n",
    "                         alpha=0.03, \n",
    "                         min_alpha=0.0007, \n",
    "                         negative=20,\n",
    "                         workers=cores-1)"
   ]
  },
  {
   "cell_type": "code",
   "execution_count": 26,
   "id": "1bf52fa2-3a95-42fc-a01d-b0b5d71f84e7",
   "metadata": {},
   "outputs": [],
   "source": [
    "model.build_vocab(normal_sents, progress_per=1000)"
   ]
  },
  {
   "cell_type": "code",
   "execution_count": 28,
   "id": "8fcd3b36-60d1-47d1-a525-d8fdadd1f4bf",
   "metadata": {},
   "outputs": [
    {
     "data": {
      "text/plain": [
       "(265598100, 557322810)"
      ]
     },
     "execution_count": 28,
     "metadata": {},
     "output_type": "execute_result"
    }
   ],
   "source": [
    "%%time\n",
    "model.train(normal_sents, total_examples=model.corpus_count, epochs=30, report_delay=1)"
   ]
  },
  {
   "cell_type": "code",
   "execution_count": 32,
   "id": "16b87de8-029a-4f7b-9b8b-9189bbe03e1d",
   "metadata": {},
   "outputs": [
    {
     "data": {
      "text/plain": [
       "[('зп', 0.892952024936676),\n",
       " ('заработный', 0.8042138814926147),\n",
       " ('плата', 0.7912531495094299),\n",
       " ('доход', 0.7435174584388733),\n",
       " ('оклад', 0.7322441935539246),\n",
       " ('з', 0.6915128231048584),\n",
       " ('премия', 0.6601575613021851),\n",
       " ('бонус', 0.6316412687301636),\n",
       " ('оплата', 0.6313985586166382),\n",
       " ('вознаграждение', 0.6246646642684937)]"
      ]
     },
     "execution_count": 32,
     "metadata": {},
     "output_type": "execute_result"
    }
   ],
   "source": [
    "model.wv.most_similar('зарплата')"
   ]
  },
  {
   "cell_type": "code",
   "execution_count": 35,
   "id": "c177cbbd-65a8-4361-9a20-110b50e457fd",
   "metadata": {},
   "outputs": [],
   "source": [
    "model.save('hh_word2vec.pickle')"
   ]
  },
  {
   "cell_type": "code",
   "execution_count": 99,
   "id": "375153c7-3bb1-49ca-ba6c-6ab34cc12bf5",
   "metadata": {},
   "outputs": [],
   "source": [
    "def text2vec(text):\n",
    "    vector = np.array([.0 for _ in range(model.vector_size)])\n",
    "    count = 0\n",
    "\n",
    "    for word in text.split():\n",
    "        if word in model.wv:\n",
    "            vector += model.wv[word]\n",
    "            count += 1\n",
    "\n",
    "    if count != 0:\n",
    "        vector /= count\n",
    "\n",
    "    return vector\n"
   ]
  },
  {
   "cell_type": "code",
   "execution_count": 103,
   "id": "1721bf17-2443-427d-93d6-7a61b368ea55",
   "metadata": {},
   "outputs": [],
   "source": [
    "vectors = np.zeros((df.shape[0], model.vector_size))\n",
    "\n",
    "for i, name in enumerate(df.name):\n",
    "    vectors[i, :] = text2vec(name)"
   ]
  },
  {
   "cell_type": "code",
   "execution_count": 109,
   "id": "cf16d2a7-3140-4b55-a39e-d4e5bd15af7f",
   "metadata": {},
   "outputs": [],
   "source": [
    "from sklearn.metrics.pairwise import cosine_similarity"
   ]
  },
  {
   "cell_type": "code",
   "execution_count": 145,
   "id": "21d378e2-095f-43b9-9579-82f8fff6256c",
   "metadata": {},
   "outputs": [],
   "source": [
    "def most_similar_vacancee(name, top_n=5):\n",
    "    vector = text2vec(name)\n",
    "    similarities = cosine_similarity([vector], vectors)\n",
    "    similarities = [(sim, df.name.iloc[i]) for i, sim in enumerate(similarities[0])]\n",
    "    similarities.sort(reverse=True)\n",
    "    \n",
    "    return similarities[:top_n]"
   ]
  },
  {
   "cell_type": "code",
   "execution_count": 149,
   "id": "aedb7d23-03ed-46d4-ab3d-cffa06b58628",
   "metadata": {},
   "outputs": [
    {
     "data": {
      "text/plain": [
       "[(1.0000000000000002, 'Стажер Sberseasons Мобильная разработка Android'),\n",
       " (1.0000000000000002,\n",
       "  'Системный аналитик/ Бизнес-аналитик разработка высоконагруженного ПО'),\n",
       " (1.0000000000000002,\n",
       "  'Разработчик С++, кроссплатформенная разработка сетевых сервисов'),\n",
       " (1.0000000000000002, 'Unity разработчик/Gamedev, разработка игр'),\n",
       " (1.0000000000000002, 'Product manager мобильная разработка')]"
      ]
     },
     "execution_count": 149,
     "metadata": {},
     "output_type": "execute_result"
    }
   ],
   "source": [
    "most_similar_vacancee('разработка сайта')"
   ]
  },
  {
   "cell_type": "code",
   "execution_count": 132,
   "id": "517315ce-ebdf-40eb-b05d-de24f74dc14e",
   "metadata": {},
   "outputs": [
    {
     "data": {
      "text/plain": [
       "[('диспетчер', 0.49753934144973755),\n",
       " ('колл', 0.4464859068393707),\n",
       " ('мерчендайзер', 0.4109043478965759),\n",
       " ('продавец', 0.39603227376937866),\n",
       " ('комплектовщик', 0.3930642306804657),\n",
       " ('телемаркетолог', 0.39092662930488586),\n",
       " ('волоконный', 0.3791011571884155),\n",
       " ('авторизированный', 0.3667648136615753),\n",
       " ('регистратор', 0.3634858727455139),\n",
       " ('сортировочный', 0.35270535945892334)]"
      ]
     },
     "execution_count": 132,
     "metadata": {},
     "output_type": "execute_result"
    }
   ],
   "source": [
    "model.wv.most_similar('оператор')"
   ]
  },
  {
   "cell_type": "code",
   "execution_count": 88,
   "id": "15ea9ea1-e679-45b7-aec0-fb1119739b73",
   "metadata": {},
   "outputs": [],
   "source": [
    "model.save('hh_word2vec.pickle')"
   ]
  },
  {
   "cell_type": "code",
   "execution_count": 47,
   "id": "ab4fe966-1d2f-4bac-b38a-499fd3c70828",
   "metadata": {},
   "outputs": [],
   "source": [
    "from gensim.test.utils import datapath\n",
    "from gensim.models.fasttext import load_facebook_model\n",
    "model = load_facebook_model(\"cc.ru.300.bin\")"
   ]
  },
  {
   "cell_type": "code",
   "execution_count": null,
   "id": "5529fc1d-7a23-4557-a1d4-583ea67f10a4",
   "metadata": {},
   "outputs": [],
   "source": [
    "model.build_vocab(normal_sents, update=True)"
   ]
  },
  {
   "cell_type": "code",
   "execution_count": 53,
   "id": "a8eababe-76c3-425d-9e45-2c886a45e21f",
   "metadata": {},
   "outputs": [
    {
     "data": {
      "text/plain": [
       "(24840978, 93054275)"
      ]
     },
     "execution_count": 53,
     "metadata": {},
     "output_type": "execute_result"
    }
   ],
   "source": [
    "model.train(normal_sents, total_examples=len(normal_sents), epochs=5)"
   ]
  },
  {
   "cell_type": "code",
   "execution_count": 55,
   "id": "9baef9d8-0813-43fd-b3b8-4e3895fdf55a",
   "metadata": {},
   "outputs": [
    {
     "data": {
      "text/plain": [
       "[('брутто-зарплата', 0.9950622916221619),\n",
       " ('зарплата.', 0.9942271709442139),\n",
       " ('зарплатами', 0.992497980594635),\n",
       " ('зарплатах', 0.9919713735580444),\n",
       " ('зарплатам', 0.9917556047439575),\n",
       " ('.Зарплата', 0.9915549755096436),\n",
       " ('Зарплата', 0.9915105700492859),\n",
       " ('Зарплата.ру', 0.9913815855979919),\n",
       " ('делЗарплата', 0.9909665584564209),\n",
       " ('1Зарплата', 0.9906765222549438)]"
      ]
     },
     "execution_count": 55,
     "metadata": {},
     "output_type": "execute_result"
    }
   ],
   "source": [
    "model.wv.most_similar('зарплата')"
   ]
  },
  {
   "cell_type": "code",
   "execution_count": 54,
   "id": "1518f73e-e74a-4c3d-8e68-8209c10cb79d",
   "metadata": {},
   "outputs": [],
   "source": [
    "model.save('hh_fastext.300.pickle')"
   ]
  },
  {
   "cell_type": "code",
   "execution_count": null,
   "id": "cc224d85-297b-4dc3-b424-616c1dccde63",
   "metadata": {},
   "outputs": [],
   "source": []
  }
 ],
 "metadata": {
  "kernelspec": {
   "display_name": "Python 3 (ipykernel)",
   "language": "python",
   "name": "python3"
  },
  "language_info": {
   "codemirror_mode": {
    "name": "ipython",
    "version": 3
   },
   "file_extension": ".py",
   "mimetype": "text/x-python",
   "name": "python",
   "nbconvert_exporter": "python",
   "pygments_lexer": "ipython3",
   "version": "3.8.2"
  }
 },
 "nbformat": 4,
 "nbformat_minor": 5
}
