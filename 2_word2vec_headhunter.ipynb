{
 "cells": [
  {
   "cell_type": "code",
   "execution_count": 97,
   "id": "bb63095d-faa9-4701-ae9f-2724415a9547",
   "metadata": {},
   "outputs": [],
   "source": [
    "import urllib.request\n",
    "import gensim\n",
    "from gensim.models import word2vec\n",
    "\n",
    "import nltk.data\n",
    "import re\n",
    "import numpy as np\n",
    "\n",
    "from bs4 import BeautifulSoup\n",
    "from nltk.corpus import stopwords\n",
    "from nltk.tokenize import sent_tokenize, RegexpTokenizer \n",
    "\n",
    "import pandas as pd\n",
    "from tqdm import tqdm \n",
    "\n",
    "import pymorphy2\n",
    "\n",
    "tqdm.pandas()"
   ]
  },
  {
   "cell_type": "code",
   "execution_count": 42,
   "id": "62b73b44-327e-4005-a04d-eb8a288bf44b",
   "metadata": {},
   "outputs": [],
   "source": [
    "morph = pymorphy2.MorphAnalyzer()\n",
    "tokenizer = nltk.data.load('tokenizers/punkt/russian.pickle')\n",
    "\n",
    "def review_to_wordlist(review, remove_stopwords=False):\n",
    "    # убираем ссылки вне тегов\n",
    "    review = re.sub(r\"http[s]?://(?:[a-zA-Z]|[0-9]|[$-_@.&+]|[!*\\(\\),]|(?:%[0-9a-fA-F][0-9a-fA-F]))+\", \" \", review)\n",
    "    # достаем сам текст\n",
    "    review_text = re.sub(\"[^а-яА-Я]\",\" \", review)\n",
    "    # приводим к нижнему регистру и разбиваем на слова по символу пробела\n",
    "    words = review_text.lower().split()\n",
    "    \n",
    "    if remove_stopwords:\n",
    "      # убираем стоп-слова\n",
    "        stops = stopwords.words(\"russian\")\n",
    "        words = [w for w in words if not w in stops]\n",
    "    return(words)\n",
    "\n",
    "def review_to_sentences(review, tokenizer, remove_stopwords=False):\n",
    "    raw_sentences = tokenizer.tokenize(review.strip())\n",
    "    sentences = []\n",
    "    for raw_sentence in raw_sentences:\n",
    "        if len(raw_sentence) > 0:\n",
    "            sentences.append(review_to_wordlist(raw_sentence, remove_stopwords))\n",
    "    return sentences"
   ]
  },
  {
   "cell_type": "code",
   "execution_count": 91,
   "id": "ddb5fab5-1360-4e94-94af-19afa6597fae",
   "metadata": {},
   "outputs": [],
   "source": [
    "df = pd.read_csv('data/hhparser_vacancy.csv')"
   ]
  },
  {
   "cell_type": "code",
   "execution_count": 31,
   "id": "1f52fcce-92cc-4288-abfc-a5cf34a9a1b3",
   "metadata": {},
   "outputs": [],
   "source": [
    "def remove_tags(text: str) -> str:\n",
    "    return re.sub('<[^>]*>', ' ', text)"
   ]
  },
  {
   "cell_type": "code",
   "execution_count": 110,
   "id": "175aeccf-3ba0-45a2-aefd-95e5377b3065",
   "metadata": {},
   "outputs": [],
   "source": [
    "df.description.fillna('none', inplace=True)"
   ]
  },
  {
   "cell_type": "code",
   "execution_count": 111,
   "id": "2c4cd571-9ffe-4ee4-9b02-06caae244bcb",
   "metadata": {},
   "outputs": [
    {
     "name": "stderr",
     "output_type": "stream",
     "text": [
      "100%|██████████████████████████████████| 96225/96225 [00:02<00:00, 32189.84it/s]\n"
     ]
    }
   ],
   "source": [
    "descriptions = df.description.progress_apply(remove_tags)"
   ]
  },
  {
   "cell_type": "code",
   "execution_count": 112,
   "id": "96b10326-1170-473a-ae86-bf3611a91714",
   "metadata": {},
   "outputs": [],
   "source": [
    "from normalizer import normalize_sentences"
   ]
  },
  {
   "cell_type": "code",
   "execution_count": 113,
   "id": "3feaaf3f-2cd7-42e1-87b6-16c38588bf69",
   "metadata": {},
   "outputs": [
    {
     "name": "stderr",
     "output_type": "stream",
     "text": [
      "100%|███████████████████████████████████| 96225/96225 [01:22<00:00, 1166.54it/s]\n",
      "100%|█████████████████████████████████| 138813/138813 [00:33<00:00, 4202.90it/s]\n",
      "100%|██████████████████████████████████| 96225/96225 [00:04<00:00, 20847.87it/s]\n"
     ]
    }
   ],
   "source": [
    "normal_sents = normalize_sentences(descriptions)"
   ]
  },
  {
   "cell_type": "code",
   "execution_count": 80,
   "id": "37754d4a-f374-4e69-b4fe-f03fd15a0857",
   "metadata": {},
   "outputs": [],
   "source": [
    "model = word2vec.Word2Vec(batch_words=200, window=4, min_count=5, workers=4, vector_size=200)"
   ]
  },
  {
   "cell_type": "code",
   "execution_count": 85,
   "id": "6317aeee-257d-4ee9-8c19-60e233374b4d",
   "metadata": {},
   "outputs": [
    {
     "name": "stdout",
     "output_type": "stream",
     "text": [
      "CPU times: user 12min 17s, sys: 39.2 s, total: 12min 57s\n",
      "Wall time: 8min\n"
     ]
    },
    {
     "data": {
      "text/plain": [
       "(263935203, 320459940)"
      ]
     },
     "execution_count": 85,
     "metadata": {},
     "output_type": "execute_result"
    }
   ],
   "source": [
    "%%time\n",
    "model.build_vocab(normal_sents)\n",
    "model.train(normal_sents, total_examples=model.corpus_count, epochs=20)"
   ]
  },
  {
   "cell_type": "code",
   "execution_count": 86,
   "id": "16b87de8-029a-4f7b-9b8b-9189bbe03e1d",
   "metadata": {},
   "outputs": [
    {
     "data": {
      "text/plain": [
       "[('холдинг', 0.6283978819847107),\n",
       " ('фирма', 0.5357980132102966),\n",
       " ('корпорация', 0.46684783697128296),\n",
       " ('банк', 0.44805485010147095),\n",
       " ('бренд', 0.43597322702407837),\n",
       " ('агентство', 0.43376657366752625),\n",
       " ('агрохолдинг', 0.4186793267726898),\n",
       " ('предприятие', 0.4169907867908478),\n",
       " ('ретейлер', 0.4165612459182739),\n",
       " ('концерн', 0.400160551071167)]"
      ]
     },
     "execution_count": 86,
     "metadata": {},
     "output_type": "execute_result"
    }
   ],
   "source": [
    "model.wv.most_similar('компания')"
   ]
  },
  {
   "cell_type": "code",
   "execution_count": 87,
   "id": "5f113ed7-839d-41e1-8e2c-592277e9f836",
   "metadata": {},
   "outputs": [
    {
     "data": {
      "text/plain": [
       "[('зп', 0.9215664267539978),\n",
       " ('доход', 0.7335813045501709),\n",
       " ('заработный', 0.7197492718696594),\n",
       " ('плата', 0.7189484238624573),\n",
       " ('вознаграждение', 0.6790640950202942),\n",
       " ('з', 0.661858081817627),\n",
       " ('оклад', 0.6359198093414307),\n",
       " ('заработок', 0.5794186592102051),\n",
       " ('оплата', 0.578693687915802),\n",
       " ('окладной', 0.4974970519542694)]"
      ]
     },
     "execution_count": 87,
     "metadata": {},
     "output_type": "execute_result"
    }
   ],
   "source": [
    "model.wv.most_similar('зарплата')"
   ]
  },
  {
   "cell_type": "code",
   "execution_count": 99,
   "id": "375153c7-3bb1-49ca-ba6c-6ab34cc12bf5",
   "metadata": {},
   "outputs": [],
   "source": [
    "def text2vec(text):\n",
    "    vector = np.array([.0 for _ in range(model.vector_size)])\n",
    "    count = 0\n",
    "\n",
    "    for word in text.split():\n",
    "        if word in model.wv:\n",
    "            vector += model.wv[word]\n",
    "            count += 1\n",
    "\n",
    "    if count != 0:\n",
    "        vector /= count\n",
    "\n",
    "    return vector\n"
   ]
  },
  {
   "cell_type": "code",
   "execution_count": 103,
   "id": "1721bf17-2443-427d-93d6-7a61b368ea55",
   "metadata": {},
   "outputs": [],
   "source": [
    "vectors = np.zeros((df.shape[0], model.vector_size))\n",
    "\n",
    "for i, name in enumerate(df.name):\n",
    "    vectors[i, :] = text2vec(name)"
   ]
  },
  {
   "cell_type": "code",
   "execution_count": 109,
   "id": "cf16d2a7-3140-4b55-a39e-d4e5bd15af7f",
   "metadata": {},
   "outputs": [],
   "source": [
    "from sklearn.metrics.pairwise import cosine_similarity"
   ]
  },
  {
   "cell_type": "code",
   "execution_count": 145,
   "id": "21d378e2-095f-43b9-9579-82f8fff6256c",
   "metadata": {},
   "outputs": [],
   "source": [
    "def most_similar_vacancee(name, top_n=5):\n",
    "    vector = text2vec(name)\n",
    "    similarities = cosine_similarity([vector], vectors)\n",
    "    similarities = [(sim, df.name.iloc[i]) for i, sim in enumerate(similarities[0])]\n",
    "    similarities.sort(reverse=True)\n",
    "    \n",
    "    return similarities[:top_n]"
   ]
  },
  {
   "cell_type": "code",
   "execution_count": 149,
   "id": "aedb7d23-03ed-46d4-ab3d-cffa06b58628",
   "metadata": {},
   "outputs": [
    {
     "data": {
      "text/plain": [
       "[(1.0000000000000002, 'Стажер Sberseasons Мобильная разработка Android'),\n",
       " (1.0000000000000002,\n",
       "  'Системный аналитик/ Бизнес-аналитик разработка высоконагруженного ПО'),\n",
       " (1.0000000000000002,\n",
       "  'Разработчик С++, кроссплатформенная разработка сетевых сервисов'),\n",
       " (1.0000000000000002, 'Unity разработчик/Gamedev, разработка игр'),\n",
       " (1.0000000000000002, 'Product manager мобильная разработка')]"
      ]
     },
     "execution_count": 149,
     "metadata": {},
     "output_type": "execute_result"
    }
   ],
   "source": [
    "most_similar_vacancee('разработка сайта')"
   ]
  },
  {
   "cell_type": "code",
   "execution_count": 132,
   "id": "517315ce-ebdf-40eb-b05d-de24f74dc14e",
   "metadata": {},
   "outputs": [
    {
     "data": {
      "text/plain": [
       "[('диспетчер', 0.49753934144973755),\n",
       " ('колл', 0.4464859068393707),\n",
       " ('мерчендайзер', 0.4109043478965759),\n",
       " ('продавец', 0.39603227376937866),\n",
       " ('комплектовщик', 0.3930642306804657),\n",
       " ('телемаркетолог', 0.39092662930488586),\n",
       " ('волоконный', 0.3791011571884155),\n",
       " ('авторизированный', 0.3667648136615753),\n",
       " ('регистратор', 0.3634858727455139),\n",
       " ('сортировочный', 0.35270535945892334)]"
      ]
     },
     "execution_count": 132,
     "metadata": {},
     "output_type": "execute_result"
    }
   ],
   "source": [
    "model.wv.most_similar('оператор')"
   ]
  },
  {
   "cell_type": "code",
   "execution_count": 88,
   "id": "15ea9ea1-e679-45b7-aec0-fb1119739b73",
   "metadata": {},
   "outputs": [],
   "source": [
    "model.save('hh_word2vec.pickle')"
   ]
  }
 ],
 "metadata": {
  "kernelspec": {
   "display_name": "Python 3 (ipykernel)",
   "language": "python",
   "name": "python3"
  },
  "language_info": {
   "codemirror_mode": {
    "name": "ipython",
    "version": 3
   },
   "file_extension": ".py",
   "mimetype": "text/x-python",
   "name": "python",
   "nbconvert_exporter": "python",
   "pygments_lexer": "ipython3",
   "version": "3.8.2"
  }
 },
 "nbformat": 4,
 "nbformat_minor": 5
}
