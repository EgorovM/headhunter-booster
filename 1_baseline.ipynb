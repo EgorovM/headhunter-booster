{
 "cells": [
  {
   "cell_type": "code",
   "execution_count": 181,
   "id": "4638ff9f-76b8-4424-9286-95c0be21f526",
   "metadata": {},
   "outputs": [],
   "source": [
    "import pandas as pd\n",
    "import numpy as np\n",
    "\n",
    "import gensim\n",
    "from gensim.models import word2vec\n",
    "from sklearn.base import BaseEstimator, TransformerMixin\n",
    "\n",
    "from tqdm import tqdm\n",
    "tqdm.pandas()\n",
    "\n",
    "from normalizer import normalize_sentences"
   ]
  },
  {
   "cell_type": "markdown",
   "id": "db941394-8ce0-4a1c-a389-1255effc76f6",
   "metadata": {},
   "source": [
    "## Предобработка данных"
   ]
  },
  {
   "cell_type": "code",
   "execution_count": 182,
   "id": "c81a7276-476c-47ee-aa2f-d3a8f761b9c3",
   "metadata": {},
   "outputs": [],
   "source": [
    "train_df = pd.read_csv('data/HeadHunter_train.csv', index_col=0)\n",
    "test_df = pd.read_csv('data/HeadHunter_test.csv', index_col=0)\n",
    "\n",
    "train_size = train_df.shape[0]"
   ]
  },
  {
   "cell_type": "code",
   "execution_count": 183,
   "id": "d8533ca7-c406-4e6f-98f7-864a08ee37e8",
   "metadata": {},
   "outputs": [],
   "source": [
    "general_df = train_df.append(test_df).reset_index(drop=True)"
   ]
  },
  {
   "cell_type": "code",
   "execution_count": 184,
   "id": "2a044c35-78a4-4002-be48-e754b0486232",
   "metadata": {},
   "outputs": [],
   "source": [
    "general_text_columns = ['position', 'negative', 'positive']"
   ]
  },
  {
   "cell_type": "code",
   "execution_count": 243,
   "id": "ed679a6f-5250-463c-99cc-f77754f690ee",
   "metadata": {},
   "outputs": [],
   "source": [
    "import wordentropy.word_entropy\n",
    "import importlib\n",
    "word_entropy = importlib.reload(wordentropy.word_entropy)\n",
    "\n",
    "from wordentropy.word_entropy import WordEntropyCounter\n",
    "\n",
    "wec = WordEntropyCounter.from_file('wordentropy/english_russian_words.wec')\n",
    "\n",
    "def text_entropy(text):\n",
    "    entropy = 0\n",
    "    \n",
    "    for word in text.split():\n",
    "        try: \n",
    "            entropy += wec.word_entropy(word)\n",
    "        except:\n",
    "            pass\n",
    "        \n",
    "    return entropy / len(text.split())"
   ]
  },
  {
   "cell_type": "code",
   "execution_count": 244,
   "id": "52afae98-6c81-4cec-a3cb-396ec042e452",
   "metadata": {},
   "outputs": [],
   "source": [
    "feature_pref_add = {\n",
    "    'len': lambda col: general_df[col].str.len(),\n",
    "    'words_count': lambda col: general_df[col].str.split().str.len(),\n",
    "    'brakets_count': lambda col: abs(general_df[col].str.count('\\)') - general_df[col].str.count('\\(')),\n",
    "    'three_points_count': lambda col: general_df[col].str.count('...') + general_df[col].str.count('…'),\n",
    "    'digit_count': lambda col: general_df[col].str.count('[0-9]'),\n",
    "    'vosk_count': lambda col: general_df[col].str.count('!') / general_df[col].str.len(),\n",
    "    'non_ascii_dol': lambda col: general_df[col].str.count('[^a-zA-Zа-яА-Я]') / general_df[col].str.len(),\n",
    "    'entropy': lambda col: general_df[col].apply(text_entropy),\n",
    "    'max_length_word': lambda col: general_df[col].str.split().progress_apply(lambda x: max(len(t) for t in x))\n",
    "}"
   ]
  },
  {
   "cell_type": "code",
   "execution_count": 245,
   "id": "83dc9756-d50b-4b0c-b04d-417dd83cc476",
   "metadata": {},
   "outputs": [],
   "source": [
    "word2replace = {\n",
    "    'з/п': ' зарплата ',\n",
    "    'з\\\\\\\\п': ' зарплата ',\n",
    "    'зар.плат': ' зарплата ',\n",
    "    'юр.лиц': ' юридическое лицо ',\n",
    "    'физ.лиц': ' физическое лицо ',\n",
    "    'ткрф': ' тк '\n",
    "}"
   ]
  },
  {
   "cell_type": "code",
   "execution_count": 246,
   "id": "8a5f4d7d-0530-4251-818d-f0899ef887b9",
   "metadata": {},
   "outputs": [
    {
     "name": "stderr",
     "output_type": "stream",
     "text": [
      "100%|███████████████████████████████| 101527/101527 [00:00<00:00, 391722.35it/s]\n",
      "100%|███████████████████████████████| 101527/101527 [00:00<00:00, 273106.90it/s]\n",
      "100%|███████████████████████████████| 101527/101527 [00:00<00:00, 256453.94it/s]\n"
     ]
    },
    {
     "name": "stdout",
     "output_type": "stream",
     "text": [
      "CPU times: user 43.7 s, sys: 491 ms, total: 44.2 s\n",
      "Wall time: 44.4 s\n"
     ]
    }
   ],
   "source": [
    "%%time\n",
    "for col in general_text_columns:\n",
    "    general_df[col] = general_df[col].fillna('None')\n",
    "    general_df[col] = general_df[col].str.replace(',', ' , ')\n",
    "    general_df[col] = general_df[col].str.replace('ё', 'е')\n",
    "    general_df[col] = general_df[col].str.lower()\n",
    "    \n",
    "    for to_replace, replaced in word2replace.items():\n",
    "        general_df[col] = general_df[col].str.replace(to_replace, replaced, regex=False)\n",
    "    \n",
    "    for pref, func in feature_pref_add.items():\n",
    "        general_df[f'{col}_{pref}'] = func(col)\n",
    "\n",
    "all_text_values = general_df[general_text_columns].fillna('None').to_numpy().flatten()"
   ]
  },
  {
   "cell_type": "code",
   "execution_count": 189,
   "id": "31df78a4-0dd0-4fb7-9be5-62dc40855010",
   "metadata": {},
   "outputs": [],
   "source": [
    "# not_only_alpha_words = set()\n",
    "\n",
    "# for text in all_text_values:\n",
    "#     for word in text.split():\n",
    "#         if '/' in word or '.' in word:\n",
    "#             not_only_alpha_words.add(word)"
   ]
  },
  {
   "cell_type": "code",
   "execution_count": 190,
   "id": "55d553d4-e709-44bd-bcda-085f3281d07e",
   "metadata": {},
   "outputs": [
    {
     "name": "stderr",
     "output_type": "stream",
     "text": [
      "100%|████████████████████████████████| 304581/304581 [00:17<00:00, 17063.20it/s]\n",
      "100%|███████████████████████████████████| 96991/96991 [00:22<00:00, 4303.28it/s]\n",
      "100%|███████████████████████████████| 304581/304581 [00:01<00:00, 210462.26it/s]\n"
     ]
    }
   ],
   "source": [
    "clear_text_values = normalize_sentences(all_text_values)\n",
    "all_text_values = [\" \".join([word for word in text if len(word) >= 2]) for text in clear_text_values]"
   ]
  },
  {
   "cell_type": "code",
   "execution_count": 191,
   "id": "530273d8-2ae7-414f-9ba8-41849de34601",
   "metadata": {},
   "outputs": [],
   "source": [
    "for i, col in enumerate(general_text_columns):\n",
    "    general_df[f'normal_{col}'] = all_text_values[i::3]\n",
    "    general_df[f'normal_{col}'] = general_df[f'normal_{col}'].replace('ё', 'е')"
   ]
  },
  {
   "cell_type": "code",
   "execution_count": 192,
   "id": "a73922eb-7333-4ab1-8d32-8413331f41d9",
   "metadata": {},
   "outputs": [],
   "source": [
    "popular_cities = general_df.city.value_counts()[:50].index\n",
    "general_df['city_cat'] = general_df.city.apply(lambda text: text if text in popular_cities else 'Другое')"
   ]
  },
  {
   "cell_type": "code",
   "execution_count": 247,
   "id": "4b190f8c-74a1-4ff8-8322-2146dd60ae57",
   "metadata": {},
   "outputs": [],
   "source": [
    "train_df = general_df[:train_size].copy()\n",
    "test_df = general_df[train_size:].copy()\n",
    "\n",
    "train_df['target'] = train_df['target'].str.split(',')\n",
    "train_df = train_df.explode('target')\n",
    "\n",
    "train_df.drop(general_text_columns, axis=1).to_csv('data/clean_train.csv', index=False)\n",
    "test_df.drop(general_text_columns, axis=1).to_csv('data/clean_test.csv', index=False)"
   ]
  },
  {
   "cell_type": "code",
   "execution_count": 248,
   "id": "5a891464-4d2a-4b10-93f0-8ad929eed9c2",
   "metadata": {},
   "outputs": [],
   "source": [
    "# train_remove_indexes = train_df[train_df.positive.fillna('None').str.contains('commarystarkova')].index"
   ]
  },
  {
   "cell_type": "code",
   "execution_count": 249,
   "id": "d158c623-407e-4fa7-951e-b88c3f817f27",
   "metadata": {},
   "outputs": [],
   "source": [
    "# train_df = train_df.drop(train_remove_indexes)"
   ]
  },
  {
   "cell_type": "code",
   "execution_count": 317,
   "id": "9ccfaa99-4ac7-4e28-8195-6c4710e6f37d",
   "metadata": {},
   "outputs": [],
   "source": [
    "train_df = pd.read_csv('data/clean_train.csv')\n",
    "test_df = pd.read_csv('data/clean_test.csv')\n",
    "train_df.drop([6672], inplace=True)\n",
    "test_df.drop([6672], inplace=True)"
   ]
  },
  {
   "cell_type": "code",
   "execution_count": 318,
   "id": "9472988c-1fdb-4faf-8321-eab80bae32f8",
   "metadata": {},
   "outputs": [
    {
     "data": {
      "text/plain": [
       "<AxesSubplot:>"
      ]
     },
     "execution_count": 318,
     "metadata": {},
     "output_type": "execute_result"
    },
    {
     "data": {
      "image/png": "[encoded data removed]",
      "text/plain": [
       "<Figure size 1152x648 with 2 Axes>"
      ]
     },
     "metadata": {
      "needs_background": "light"
     },
     "output_type": "display_data"
    }
   ],
   "source": [
    "plt.figure(figsize=(16, 9))\n",
    "sns.heatmap(train_df[real_columns].corr())"
   ]
  },
  {
   "cell_type": "markdown",
   "id": "f4dc2b80-7d30-4323-8722-3bdf91714c57",
   "metadata": {
    "tags": []
   },
   "source": [
    "## Обучение моделей"
   ]
  },
  {
   "cell_type": "code",
   "execution_count": 319,
   "id": "900bacc3-6a4d-4485-89e2-454505172623",
   "metadata": {},
   "outputs": [],
   "source": [
    "from sklearn.impute import SimpleImputer\n",
    "from sklearn.ensemble import RandomForestClassifier\n",
    "from sklearn.model_selection import train_test_split\n",
    "from sklearn.preprocessing import StandardScaler, OneHotEncoder, PolynomialFeatures\n",
    "from sklearn.feature_extraction.text import TfidfVectorizer\n",
    "from sklearn.pipeline import Pipeline\n",
    "from sklearn.compose import ColumnTransformer\n",
    "from sklearn.metrics import f1_score, accuracy_score"
   ]
  },
  {
   "cell_type": "code",
   "execution_count": 320,
   "id": "15b0395d-3490-4fa0-b485-3773ad05bc32",
   "metadata": {},
   "outputs": [],
   "source": [
    "class SelectColumnsTransformer():\n",
    "    def __init__(self, columns=None):\n",
    "        self.columns = columns\n",
    "\n",
    "    def transform(self, X, **transform_params):\n",
    "        cpy_df = X[self.columns].copy()\n",
    "        return cpy_df\n",
    "\n",
    "    def fit(self, X, y=None, **fit_params):\n",
    "        return self"
   ]
  },
  {
   "cell_type": "code",
   "execution_count": 321,
   "id": "37e2b562-d63d-45d2-ad5a-bf70d27ee990",
   "metadata": {},
   "outputs": [],
   "source": [
    "class PandasSimpleImputer(SimpleImputer):\n",
    "    \"\"\"A wrapper around `SimpleImputer` to return data frames with columns.\n",
    "    \"\"\"\n",
    "\n",
    "    def fit(self, X, y=None):\n",
    "        self.columns = X.columns\n",
    "        return super().fit(X, y)\n",
    "\n",
    "    def transform(self, X):\n",
    "        return pd.DataFrame(super().transform(X), columns=self.columns)"
   ]
  },
  {
   "cell_type": "code",
   "execution_count": 322,
   "id": "622a9181-b72e-4f3a-a277-826470fb68df",
   "metadata": {},
   "outputs": [],
   "source": [
    "numeric_transformer = Pipeline(\n",
    "    steps=[\n",
    "        (\"imputer\", SimpleImputer(strategy=\"median\")), \n",
    "        (\"poly\",  PolynomialFeatures(2)),\n",
    "        (\"scaler\", StandardScaler())\n",
    "    ]\n",
    ")\n",
    "categorical_transformer = Pipeline(\n",
    "    steps=[\n",
    "        (\"imputer\", SimpleImputer(strategy=\"most_frequent\")), \n",
    "        (\"encoder\", OneHotEncoder(handle_unknown='ignore'))\n",
    "    ]\n",
    ")\n",
    "\n",
    "def get_text_transformer(transformer):\n",
    "    return Pipeline(\n",
    "        steps=[\n",
    "            (\"imputer\", PandasSimpleImputer(strategy=\"constant\", fill_value='None')),\n",
    "            ('transformer', ColumnTransformer([\n",
    "                ('position', TfidfVectorizer(max_features=800, ngram_range=(1, 2)), 'normal_position'),\n",
    "                *[\n",
    "                (f\"text_{col}\", transformer, col)\n",
    "                for col in text_columns\n",
    "            ]]))\n",
    "        ],\n",
    "    )"
   ]
  },
  {
   "cell_type": "code",
   "execution_count": 323,
   "id": "8c400cea-2a55-4db6-bbf7-72c8365794cc",
   "metadata": {},
   "outputs": [],
   "source": [
    "from sklearn.svm import SVC, NuSVC\n",
    "from sklearn.linear_model import LogisticRegression\n",
    "from sklearn.neural_network import MLPClassifier\n",
    "from sklearn.ensemble import StackingClassifier\n",
    "import joblib"
   ]
  },
  {
   "cell_type": "code",
   "execution_count": 324,
   "id": "4c694a15-6e5a-43e8-8d46-70555ba02cbe",
   "metadata": {},
   "outputs": [],
   "source": [
    "# Initializing Support Vector classifier\n",
    "clf_svc = SVC(C = 50, degree = 1, gamma = \"auto\", kernel = \"rbf\", probability = True)\n",
    "\n",
    "# Initializing Multi-layer perceptron  classifier\n",
    "clf_mlp = MLPClassifier(activation = \"relu\", alpha = 0.1, hidden_layer_sizes = (10,10,10),\n",
    "                            learning_rate = \"constant\", max_iter = 2000, random_state = 1000)\n",
    "\n",
    "classifiers = [('svc', clf_svc),\n",
    "               ('mlp', clf_mlp)]"
   ]
  },
  {
   "cell_type": "code",
   "execution_count": 325,
   "id": "65100f11-e33d-4d39-bf29-26a4d06b0c29",
   "metadata": {},
   "outputs": [],
   "source": [
    "stacked_model = StackingClassifier(\n",
    "    estimators=classifiers, \n",
    "    final_estimator=LogisticRegression(),\n",
    "    stack_method='auto',\n",
    "    n_jobs=-1,\n",
    "    passthrough=False\n",
    ")"
   ]
  },
  {
   "cell_type": "code",
   "execution_count": 326,
   "id": "85cf3bca-f292-4ea9-abf5-17e8e1096234",
   "metadata": {},
   "outputs": [],
   "source": [
    "def pipe_with_text_transformer(text_transformer, clf_model):\n",
    "    preprocessor = ColumnTransformer(\n",
    "        transformers=[\n",
    "            (\"num\", numeric_transformer, real_columns),\n",
    "            (\"cat\", categorical_transformer, cat_columns),\n",
    "            (\"text\", text_transformer, text_columns + ['normal_position']),\n",
    "        ],\n",
    "        transformer_weights={\n",
    "            'num': 1,\n",
    "            'cat': 1,\n",
    "            'text': 2,\n",
    "        }\n",
    "    )\n",
    "    \n",
    "    pipe = Pipeline(steps=[\n",
    "        ('transformer', preprocessor),\n",
    "        ('model', clf_model)\n",
    "    ])\n",
    "    \n",
    "    return pipe"
   ]
  },
  {
   "cell_type": "code",
   "execution_count": 327,
   "id": "cd582477-460d-432c-a4fc-402876088cc7",
   "metadata": {},
   "outputs": [],
   "source": [
    "target = 'target'\n",
    "exception = ['review_id', target, 'positive_entropy', 'negative_entropy', 'position_entropy']\n",
    "real_columns = [col for col in train_df.columns if col not in exception and not isinstance(train_df.iloc[0][col], str)]\n",
    "cat_columns = ['city']\n",
    "text_columns = ['normal_positive', 'normal_negative']"
   ]
  },
  {
   "cell_type": "code",
   "execution_count": 328,
   "id": "0778aac4-0008-4758-8a2c-2b3dd70675d1",
   "metadata": {},
   "outputs": [],
   "source": [
    "import seaborn as sns\n",
    "import matplotlib.pyplot as plt"
   ]
  },
  {
   "cell_type": "code",
   "execution_count": 329,
   "id": "7e2db2c8-44b4-4eb3-9bcf-033b329d8386",
   "metadata": {},
   "outputs": [],
   "source": [
    "X_train, X_test, y_train, y_test = train_test_split(\n",
    "    train_df.drop(target, axis=1), \n",
    "    train_df[target], \n",
    "    test_size=0.05, \n",
    "    random_state=42\n",
    ")"
   ]
  },
  {
   "cell_type": "code",
   "execution_count": 330,
   "id": "7f6eca79-6c3a-442b-9128-8250983883ca",
   "metadata": {},
   "outputs": [],
   "source": [
    "import nltk\n",
    "from nltk.corpus import stopwords\n",
    "stopwords = stopwords.words('russian')"
   ]
  },
  {
   "cell_type": "code",
   "execution_count": 331,
   "id": "4fe7c3ce-f211-4708-a091-5efa8dfccf53",
   "metadata": {},
   "outputs": [],
   "source": [
    "def test_pipe(pipe):\n",
    "    y_pred = pipe.predict(X_test)\n",
    "    \n",
    "    print('f1_score:', f1_score(y_test, y_pred, average='weighted'))\n",
    "    print('accuracy:', accuracy_score(y_test, y_pred))\n",
    "    \n",
    "def sumbit(pipe):\n",
    "    sub_df = pd.read_csv('data/HeadHunter_sample_submit.csv')\n",
    "    submittions = pipe.predict(test_df)\n",
    "    sub_df['target'] = submittions\n",
    "    return sub_df.to_csv('submittion.csv', index=False)"
   ]
  },
  {
   "cell_type": "markdown",
   "id": "6bb92894-4b9a-41c6-916f-c0eaf4fa8ef2",
   "metadata": {},
   "source": [
    "### TF-IDF"
   ]
  },
  {
   "cell_type": "code",
   "execution_count": 332,
   "id": "91ab791e-5cf2-433a-be3d-0e7c93c4b7a3",
   "metadata": {},
   "outputs": [],
   "source": [
    "tfidf_text_transformer = get_text_transformer(\n",
    "    TfidfVectorizer(\n",
    "        max_features=1000,\n",
    "    )\n",
    ")\n",
    "tfidf_pipe = pipe_with_text_transformer(tfidf_text_transformer, LogisticRegression())"
   ]
  },
  {
   "cell_type": "code",
   "execution_count": 333,
   "id": "94af1404-a522-416b-9f55-7eaeb800389b",
   "metadata": {
    "tags": []
   },
   "outputs": [
    {
     "name": "stdout",
     "output_type": "stream",
     "text": [
      "CPU times: user 1min 42s, sys: 12.3 s, total: 1min 54s\n",
      "Wall time: 41.7 s\n"
     ]
    },
    {
     "name": "stderr",
     "output_type": "stream",
     "text": [
      "/Users/michil/.virtualenvs/base/lib/python3.8/site-packages/sklearn/linear_model/_logistic.py:814: ConvergenceWarning: lbfgs failed to converge (status=1):\n",
      "STOP: TOTAL NO. of ITERATIONS REACHED LIMIT.\n",
      "\n",
      "Increase the number of iterations (max_iter) or scale the data as shown in:\n",
      "    https://scikit-learn.org/stable/modules/preprocessing.html\n",
      "Please also refer to the documentation for alternative solver options:\n",
      "    https://scikit-learn.org/stable/modules/linear_model.html#logistic-regression\n",
      "  n_iter_i = _check_optimize_result(\n"
     ]
    }
   ],
   "source": [
    "%%time\n",
    "tfidf_pipe = tfidf_pipe.fit(X_train, y_train)"
   ]
  },
  {
   "cell_type": "code",
   "execution_count": 334,
   "id": "ce589933-4aaa-4176-93be-7dc3aa469409",
   "metadata": {},
   "outputs": [
    {
     "name": "stdout",
     "output_type": "stream",
     "text": [
      "f1_score: 0.7588078827523054\n",
      "accuracy: 0.7749255952380952\n"
     ]
    }
   ],
   "source": [
    "test_pipe(tfidf_pipe)  # 76.61"
   ]
  },
  {
   "cell_type": "code",
   "execution_count": 295,
   "id": "af3c7fd6-5335-4d79-a36a-eee310b31484",
   "metadata": {},
   "outputs": [
    {
     "data": {
      "text/plain": [
       "['feature_extractor.joblib']"
      ]
     },
     "execution_count": 295,
     "metadata": {},
     "output_type": "execute_result"
    }
   ],
   "source": [
    "feature_extractor = tfidf_pipe.named_steps['transformer']\n",
    "joblib.dump(feature_extractor, 'feature_extractor.joblib')"
   ]
  },
  {
   "cell_type": "code",
   "execution_count": 654,
   "id": "8e11e698-f066-4b1c-870e-da1c64bc7b9f",
   "metadata": {},
   "outputs": [
    {
     "data": {
      "text/plain": [
       "['models/tfidf_pipe_0.76305.joblib']"
      ]
     },
     "execution_count": 654,
     "metadata": {},
     "output_type": "execute_result"
    }
   ],
   "source": [
    "joblib.dump(tfidf_pipe, 'models/tfidf_pipe_0.76305.joblib')"
   ]
  },
  {
   "cell_type": "code",
   "execution_count": 19,
   "id": "db58209d-592f-4095-94b5-83d59e404645",
   "metadata": {},
   "outputs": [],
   "source": [
    "# sumbit(tfidf_pipe)"
   ]
  },
  {
   "cell_type": "markdown",
   "id": "105b5a20-56c3-4299-af3a-6abeba8a0f0f",
   "metadata": {
    "tags": []
   },
   "source": [
    "### Word2Vec"
   ]
  },
  {
   "cell_type": "code",
   "execution_count": 107,
   "id": "0c2d2228-609b-4aff-8631-d2b6be6f0d7d",
   "metadata": {},
   "outputs": [],
   "source": [
    "class HHWord2VecTransformer(BaseEstimator, TransformerMixin):\n",
    "    def __init__(self, model):\n",
    "        self.model = model\n",
    "        self.emb_size = model.vector_size\n",
    "    \n",
    "    def text2vec(self, text):\n",
    "        vector = np.array([.0 for _ in range(self.emb_size)])\n",
    "        count = 0\n",
    "\n",
    "        for word in text.split():\n",
    "            if word in self.model.wv:\n",
    "                vector += self.model.wv[word]\n",
    "                count += 1\n",
    "\n",
    "        if count != 0:\n",
    "            vector /= count\n",
    "\n",
    "        return vector\n",
    "\n",
    "    def fit(self,X, y=None):\n",
    "        return self\n",
    "    \n",
    "    def transform(self, X, y=None): \n",
    "        vectors = np.zeros((X.shape[0], self.emb_size))\n",
    "        \n",
    "        for i, text in tqdm(enumerate(X), total=len(X)):\n",
    "            vectors[i, :] = self.text2vec(text)\n",
    "            \n",
    "        return vectors"
   ]
  },
  {
   "cell_type": "code",
   "execution_count": 108,
   "id": "4ae9f7f4-7277-4589-b848-62f27ecc79ab",
   "metadata": {},
   "outputs": [],
   "source": [
    "model = gensim.models.Word2Vec.load('hh_word2vec.pickle')"
   ]
  },
  {
   "cell_type": "code",
   "execution_count": 109,
   "id": "0b806137-f13b-42ff-8dc2-e5a6c4bdfcdd",
   "metadata": {},
   "outputs": [],
   "source": [
    "word2vec_transformer = get_text_transformer(HHWord2VecTransformer(model))\n",
    "word2vec_pipe = pipe_with_text_transformer(word2vec_transformer, LogisticRegression())"
   ]
  },
  {
   "cell_type": "code",
   "execution_count": 110,
   "id": "23966c95-e34d-4da8-bb1a-54f93242b379",
   "metadata": {},
   "outputs": [
    {
     "name": "stderr",
     "output_type": "stream",
     "text": [
      "100%|███████████████████████████████████| 51065/51065 [00:08<00:00, 6284.41it/s]\n",
      "100%|███████████████████████████████████| 51065/51065 [00:06<00:00, 7490.17it/s]\n"
     ]
    },
    {
     "name": "stdout",
     "output_type": "stream",
     "text": [
      "CPU times: user 1min 9s, sys: 2.52 s, total: 1min 12s\n",
      "Wall time: 32.8 s\n"
     ]
    },
    {
     "name": "stderr",
     "output_type": "stream",
     "text": [
      "/Users/michil/.virtualenvs/base/lib/python3.8/site-packages/sklearn/linear_model/_logistic.py:814: ConvergenceWarning: lbfgs failed to converge (status=1):\n",
      "STOP: TOTAL NO. of ITERATIONS REACHED LIMIT.\n",
      "\n",
      "Increase the number of iterations (max_iter) or scale the data as shown in:\n",
      "    https://scikit-learn.org/stable/modules/preprocessing.html\n",
      "Please also refer to the documentation for alternative solver options:\n",
      "    https://scikit-learn.org/stable/modules/linear_model.html#logistic-regression\n",
      "  n_iter_i = _check_optimize_result(\n"
     ]
    },
    {
     "data": {
      "text/plain": [
       "Pipeline(steps=[('transformer',\n",
       "                 ColumnTransformer(transformer_weights={'cat': 1, 'num': 1,\n",
       "                                                        'text': 2},\n",
       "                                   transformers=[('num',\n",
       "                                                  Pipeline(steps=[('imputer',\n",
       "                                                                   SimpleImputer(strategy='median')),\n",
       "                                                                  ('poly',\n",
       "                                                                   PolynomialFeatures()),\n",
       "                                                                  ('scaler',\n",
       "                                                                   StandardScaler())]),\n",
       "                                                  ['salary_rating',\n",
       "                                                   'team_rating',\n",
       "                                                   'managment_rating',\n",
       "                                                   'career_rating',\n",
       "                                                   'workplace_rating',\n",
       "                                                   'rest_recovery_rating',\n",
       "                                                   'pos...\n",
       "                                                                                                    'normal_position'),\n",
       "                                                                                                   ('text_normal_positive',\n",
       "                                                                                                    HHWord2VecTransformer(model=<gensim.models.word2vec.Word2Vec object at 0x12a342220>),\n",
       "                                                                                                    'normal_positive'),\n",
       "                                                                                                   ('text_normal_negative',\n",
       "                                                                                                    HHWord2VecTransformer(model=<gensim.models.word2vec.Word2Vec object at 0x12a342220>),\n",
       "                                                                                                    'normal_negative')]))]),\n",
       "                                                  ['normal_positive',\n",
       "                                                   'normal_negative',\n",
       "                                                   'normal_position'])])),\n",
       "                ('model', LogisticRegression())])"
      ]
     },
     "execution_count": 110,
     "metadata": {},
     "output_type": "execute_result"
    }
   ],
   "source": [
    "%%time\n",
    "word2vec_pipe.fit(X_train, y_train);"
   ]
  },
  {
   "cell_type": "code",
   "execution_count": 111,
   "id": "f2baf138-1ef5-49e2-a4e4-1616960cee5b",
   "metadata": {},
   "outputs": [
    {
     "name": "stderr",
     "output_type": "stream",
     "text": [
      "100%|█████████████████████████████████████| 2688/2688 [00:00<00:00, 5756.79it/s]\n",
      "100%|█████████████████████████████████████| 2688/2688 [00:00<00:00, 7842.08it/s]\n"
     ]
    },
    {
     "name": "stdout",
     "output_type": "stream",
     "text": [
      "f1_score: 0.8818391266791821\n",
      "accuracy_score: 0.8828125\n"
     ]
    }
   ],
   "source": [
    "y_pred = word2vec_pipe.predict(X_test)\n",
    "\n",
    "print('f1_score:', f1_score(y_test, y_pred, average='weighted')) # 0.729\n",
    "print('accuracy_score:', accuracy_score(y_test, y_pred))"
   ]
  },
  {
   "cell_type": "code",
   "execution_count": 665,
   "id": "ea2b69da-bc46-41a3-9318-f6dfcfdcf8d0",
   "metadata": {},
   "outputs": [],
   "source": [
    "word2vec_feature_extractor = word2vec_pipe.named_steps['transformer']"
   ]
  },
  {
   "cell_type": "code",
   "execution_count": 666,
   "id": "046af3cc-c3c0-48b2-a2a3-d39e13e69d76",
   "metadata": {},
   "outputs": [
    {
     "data": {
      "text/plain": [
       "['word2vec_feature_extractor.joblib']"
      ]
     },
     "execution_count": 666,
     "metadata": {},
     "output_type": "execute_result"
    }
   ],
   "source": [
    "joblib.dump(word2vec_feature_extractor, 'word2vec_feature_extractor.joblib')"
   ]
  },
  {
   "cell_type": "code",
   "execution_count": 377,
   "id": "05e74401-c74f-48c6-a1b6-2d28a1eb2331",
   "metadata": {},
   "outputs": [
    {
     "name": "stderr",
     "output_type": "stream",
     "text": [
      "100%|██████████████████████████████████| 50651/50651 [00:04<00:00, 11125.47it/s]\n",
      "100%|██████████████████████████████████| 50651/50651 [00:04<00:00, 12274.51it/s]\n"
     ]
    }
   ],
   "source": [
    "sumbit(word2vec_pipe)"
   ]
  },
  {
   "cell_type": "code",
   "execution_count": 430,
   "id": "ebbb7801-5f20-4726-8405-784693d4ef4f",
   "metadata": {},
   "outputs": [
    {
     "data": {
      "text/plain": [
       "['models/word2vec_pipe_0.729.pickle']"
      ]
     },
     "execution_count": 430,
     "metadata": {},
     "output_type": "execute_result"
    }
   ],
   "source": [
    "# joblib.dump(word2vec_pipe, 'models/word2vec_pipe_0.729.pickle')"
   ]
  },
  {
   "cell_type": "markdown",
   "id": "3b42aab6-e6c4-4302-9f60-65e90bcd1963",
   "metadata": {},
   "source": [
    "### Preindexed BERT"
   ]
  },
  {
   "cell_type": "code",
   "execution_count": 138,
   "id": "3ab0bc5c-cac4-4201-8875-c7d9081015b0",
   "metadata": {},
   "outputs": [
    {
     "data": {
      "text/plain": [
       "array([[1, 2],\n",
       "       [3, 4]])"
      ]
     },
     "execution_count": 138,
     "metadata": {},
     "output_type": "execute_result"
    }
   ],
   "source": [
    "np.array([x for x in [[1, 2], [3, 4]]])"
   ]
  },
  {
   "cell_type": "code",
   "execution_count": 170,
   "id": "03eafa59-f23a-4592-9d6d-8a092e61e7fb",
   "metadata": {},
   "outputs": [],
   "source": [
    "class BertVectTransformer(BaseEstimator, TransformerMixin):\n",
    "    def __init__(self, positive_vectors, negative_vectors):\n",
    "        self.positive_vectors = positive_vectors\n",
    "        self.negative_vectors = negative_vectors\n",
    "\n",
    "    def fit(self,X, y=None):\n",
    "        return self\n",
    "    \n",
    "    def transform(self, X, y=None):\n",
    "        return np.array([\n",
    "            self.positive_vectors[X.index[i]]\n",
    "            if X.name == 'normal_positive'\n",
    "            else\n",
    "            self.negative_vectors[X.index[i]]\n",
    "            for i in range(X.shape[0])\n",
    "        ])"
   ]
  },
  {
   "cell_type": "code",
   "execution_count": 171,
   "id": "905738a6-58b0-463a-b364-e3d3447619c8",
   "metadata": {},
   "outputs": [
    {
     "data": {
      "text/plain": [
       "47147"
      ]
     },
     "execution_count": 171,
     "metadata": {},
     "output_type": "execute_result"
    }
   ],
   "source": [
    "X_train.normal_positive.index[0]"
   ]
  },
  {
   "cell_type": "code",
   "execution_count": null,
   "id": "3c17c485-9db2-47c3-9368-e43cec5c5823",
   "metadata": {},
   "outputs": [],
   "source": [
    "import torch"
   ]
  },
  {
   "cell_type": "code",
   "execution_count": 335,
   "id": "3bff2192-0cb0-4e8b-80bc-7c58d24986d0",
   "metadata": {},
   "outputs": [],
   "source": [
    "vectors = joblib.load('n_sentences.joblib')"
   ]
  },
  {
   "cell_type": "code",
   "execution_count": 336,
   "id": "77d89037-237f-4937-b568-fda8e3d0928b",
   "metadata": {},
   "outputs": [],
   "source": [
    "position_vectors = vectors[::3]\n",
    "negative_vectors = vectors[1::3]\n",
    "positive_vectors = vectors[2::3]"
   ]
  },
  {
   "cell_type": "code",
   "execution_count": 337,
   "id": "2aebd049-1a4a-4ec4-ba4d-833a2146c416",
   "metadata": {},
   "outputs": [],
   "source": [
    "# test_df.index += train_df.shape[0]"
   ]
  },
  {
   "cell_type": "code",
   "execution_count": 338,
   "id": "2d39f267-0d6b-48c8-b292-0453a942304d",
   "metadata": {},
   "outputs": [],
   "source": [
    "bert_transformer = get_text_transformer(BertVectTransformer(positive_vectors, negative_vectors))\n",
    "bert_pipe = pipe_with_text_transformer(bert_transformer, LogisticRegression())"
   ]
  },
  {
   "cell_type": "code",
   "execution_count": null,
   "id": "4702c2d3-fc9d-4189-8733-0bb8da9cbb79",
   "metadata": {
    "tags": []
   },
   "outputs": [
    {
     "name": "stdout",
     "output_type": "stream",
     "text": [
      "normal_positive\n",
      "normal_negative\n"
     ]
    }
   ],
   "source": [
    "%%time\n",
    "bert_pipe.fit(X_train, y_train);"
   ]
  },
  {
   "cell_type": "code",
   "execution_count": null,
   "id": "152d7e9e-77aa-41b8-b072-0b731f5a2b59",
   "metadata": {},
   "outputs": [],
   "source": [
    "test_pipe(bert_pipe)"
   ]
  },
  {
   "cell_type": "code",
   "execution_count": 176,
   "id": "86c40145-1107-4c86-956c-73e9487a9d6e",
   "metadata": {},
   "outputs": [],
   "source": [
    "feature_extractor = bert_pipe.named_steps['transformer']"
   ]
  },
  {
   "cell_type": "code",
   "execution_count": null,
   "id": "e4337d8e-7eca-49fd-8783-e528d8e59451",
   "metadata": {},
   "outputs": [],
   "source": []
  }
 ],
 "metadata": {
  "kernelspec": {
   "display_name": "Python 3 (ipykernel)",
   "language": "python",
   "name": "python3"
  },
  "language_info": {
   "codemirror_mode": {
    "name": "ipython",
    "version": 3
   },
   "file_extension": ".py",
   "mimetype": "text/x-python",
   "name": "python",
   "nbconvert_exporter": "python",
   "pygments_lexer": "ipython3",
   "version": "3.8.2"
  }
 },
 "nbformat": 4,
 "nbformat_minor": 5
}
